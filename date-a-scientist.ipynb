{
 "cells": [
  {
   "cell_type": "markdown",
   "metadata": {},
   "source": [
    "# Introduction\n",
    "\n",
    "This project analyzes data from on-line dating application OKCupid. In recent years, there has been a massive rise in the usage of dating apps to find love. Many of these apps use sophisticated data science techniques to recommend possible matches to users and to optimize the user experience. These apps give us access to a wealth of information that we've never had before about how different people experience romance.\n",
    "\n",
    "The goal of this project is to scope, prep, analyze, and create a machine learning model to solve a question.\n",
    "\n",
    "\n",
    "**Data sources:**\n",
    "\n",
    "`profiles.csv` was provided by Codecademy.com."
   ]
  },
  {
   "cell_type": "markdown",
   "metadata": {},
   "source": [
    "#### Data\n",
    "\n",
    "The project has one data set provided by Codecademy called `profiles.csv`. In the data, each row represents an OkCupid user and the columns are the responses to their user profiles which include multi-choice and short answer questions.\n",
    "\n",
    "#### Analysis\n",
    "\n",
    "This solution will use descriptive statistics and data visualization to find key figures in understanding the distribution, count, and relationship between variables. Since the goal of the project to make predictions on the user's astrological signs, classification algorithms from the supervised learning family of machine learning models will be implemented. \n",
    "\n",
    "#### Evaluation\n",
    "\n",
    "The project will conclude with the evaluation of the machine learning model selected with a validation data set. The output of the predictions can be checked through a confusion matrix, and metrics such as accuracy, precision, recall, F1 and Kappa scores. "
   ]
  },
  {
   "cell_type": "markdown",
   "metadata": {},
   "source": [
    "The columns in the dataset include: \n",
    "\n",
    "- **age:** continuous variable of age of user\n",
    "- **body_type:** categorical variable of body type of user\n",
    "- **diet:** categorical variable of dietary information\n",
    "- **drinks:**  categorical variable of alcohol consumption\n",
    "- **drugs:** categorical variable of drug usage\n",
    "- **education:** categorical variable of educational attainment\n",
    "- **ethnicity:** categorical variable of ethnic backgrounds\n",
    "- **height:** continuous variable of height of user\n",
    "- **income:** continuous variable of income of user\n",
    "- **job:** categorical variable of employment description\n",
    "- **offspring:** categorical variable of children status\n",
    "- **orientation:** categorical variable of sexual orientation\n",
    "- **pets:** categorical variable of pet preferences\n",
    "- **religion:** categorical variable of religious background\n",
    "- **sex:** categorical variable of gender\n",
    "- **sign:** categorical variable of astrological symbol\n",
    "- **smokes:** categorical variable of smoking consumption\n",
    "- **speaks:** categorical variable of language spoken\n",
    "- **status:** categorical variable of relationship status\n",
    "- **last_online:** date variable of last login\n",
    "- **location:** categorical variable of user locations\n",
    "\n",
    "And a set of open short-answer responses to :\n",
    "\n",
    "- **essay0:** My self summary\n",
    "- **essay1:**  What I’m doing with my life\n",
    "- **essay2:** I’m really good at\n",
    "- **essay3:** The first thing people usually notice about me\n",
    "- **essay4:** Favorite books, movies, show, music, and food\n",
    "- **essay5:** The six things I could never do without\n",
    "- **essay6:** I spend a lot of time thinking about\n",
    "- **essay7:** On a typical Friday night I am\n",
    "- **essay8:** The most private thing I am willing to admit\n",
    "- **essay9:** You should message me if…\n"
   ]
  },
  {
   "cell_type": "markdown",
   "metadata": {},
   "source": [
    "Import libraries and data"
   ]
  },
  {
   "cell_type": "code",
   "execution_count": 150,
   "metadata": {},
   "outputs": [
    {
     "name": "stdout",
     "output_type": "stream",
     "text": [
      "<class 'pandas.core.frame.DataFrame'>\n",
      "RangeIndex: 59946 entries, 0 to 59945\n",
      "Data columns (total 31 columns):\n",
      " #   Column       Non-Null Count  Dtype  \n",
      "---  ------       --------------  -----  \n",
      " 0   age          59946 non-null  int64  \n",
      " 1   body_type    54650 non-null  object \n",
      " 2   diet         35551 non-null  object \n",
      " 3   drinks       56961 non-null  object \n",
      " 4   drugs        45866 non-null  object \n",
      " 5   education    53318 non-null  object \n",
      " 6   essay0       54458 non-null  object \n",
      " 7   essay1       52374 non-null  object \n",
      " 8   essay2       50308 non-null  object \n",
      " 9   essay3       48470 non-null  object \n",
      " 10  essay4       49409 non-null  object \n",
      " 11  essay5       49096 non-null  object \n",
      " 12  essay6       46175 non-null  object \n",
      " 13  essay7       47495 non-null  object \n",
      " 14  essay8       40721 non-null  object \n",
      " 15  essay9       47343 non-null  object \n",
      " 16  ethnicity    54266 non-null  object \n",
      " 17  height       59943 non-null  float64\n",
      " 18  income       59946 non-null  int64  \n",
      " 19  job          51748 non-null  object \n",
      " 20  last_online  59946 non-null  object \n",
      " 21  location     59946 non-null  object \n",
      " 22  offspring    24385 non-null  object \n",
      " 23  orientation  59946 non-null  object \n",
      " 24  pets         40025 non-null  object \n",
      " 25  religion     39720 non-null  object \n",
      " 26  sex          59946 non-null  object \n",
      " 27  sign         48890 non-null  object \n",
      " 28  smokes       54434 non-null  object \n",
      " 29  speaks       59896 non-null  object \n",
      " 30  status       59946 non-null  object \n",
      "dtypes: float64(1), int64(2), object(28)\n",
      "memory usage: 14.2+ MB\n"
     ]
    }
   ],
   "source": [
    "import pandas as pd\n",
    "import numpy as np\n",
    "import matplotlib.pyplot as plt\n",
    "import seaborn  as sns\n",
    "\n",
    "import warnings\n",
    "warnings.filterwarnings('ignore')\n",
    "\n",
    "#import data\n",
    "profiles = pd.read_csv(\"profiles.csv\")\n",
    "profiles.info()"
   ]
  },
  {
   "cell_type": "markdown",
   "metadata": {},
   "source": [
    "`profiles` has 59,946 rows and 31 columns, this is a good sign since there seems to be enough data for machine learning.\n"
   ]
  },
  {
   "cell_type": "code",
   "execution_count": 151,
   "metadata": {},
   "outputs": [
    {
     "data": {
      "image/png": "[encoded data removed]",
      "text/plain": [
       "<Figure size 216x72 with 1 Axes>"
      ]
     },
     "metadata": {
      "needs_background": "light"
     },
     "output_type": "display_data"
    }
   ],
   "source": [
    "# set palette\n",
    "palette = [\"#003366\", \"#FF6392\"]\n",
    "\n",
    "sns.palplot([\"#003366\", \"#FF6392\", \"#f5f5f1\"])\n",
    "plt.title(\"OkCupid palette \", loc='left',\n",
    "          fontfamily='serif', fontsize=15, y=1.2)\n",
    "plt.show()"
   ]
  },
  {
   "cell_type": "markdown",
   "metadata": {},
   "source": [
    "## Investigate the data"
   ]
  },
  {
   "cell_type": "code",
   "execution_count": 152,
   "metadata": {},
   "outputs": [
    {
     "data": {
      "text/html": [
       "<div>\n",
       "<style scoped>\n",
       "    .dataframe tbody tr th:only-of-type {\n",
       "        vertical-align: middle;\n",
       "    }\n",
       "\n",
       "    .dataframe tbody tr th {\n",
       "        vertical-align: top;\n",
       "    }\n",
       "\n",
       "    .dataframe thead th {\n",
       "        text-align: right;\n",
       "    }\n",
       "</style>\n",
       "<table border=\"1\" class=\"dataframe\">\n",
       "  <thead>\n",
       "    <tr style=\"text-align: right;\">\n",
       "      <th></th>\n",
       "      <th>age</th>\n",
       "      <th>height</th>\n",
       "      <th>income</th>\n",
       "    </tr>\n",
       "  </thead>\n",
       "  <tbody>\n",
       "    <tr>\n",
       "      <th>count</th>\n",
       "      <td>59946.000000</td>\n",
       "      <td>59943.000000</td>\n",
       "      <td>59946.000000</td>\n",
       "    </tr>\n",
       "    <tr>\n",
       "      <th>mean</th>\n",
       "      <td>32.340290</td>\n",
       "      <td>68.295281</td>\n",
       "      <td>20033.222534</td>\n",
       "    </tr>\n",
       "    <tr>\n",
       "      <th>std</th>\n",
       "      <td>9.452779</td>\n",
       "      <td>3.994803</td>\n",
       "      <td>97346.192104</td>\n",
       "    </tr>\n",
       "    <tr>\n",
       "      <th>min</th>\n",
       "      <td>18.000000</td>\n",
       "      <td>1.000000</td>\n",
       "      <td>-1.000000</td>\n",
       "    </tr>\n",
       "    <tr>\n",
       "      <th>25%</th>\n",
       "      <td>26.000000</td>\n",
       "      <td>66.000000</td>\n",
       "      <td>-1.000000</td>\n",
       "    </tr>\n",
       "    <tr>\n",
       "      <th>50%</th>\n",
       "      <td>30.000000</td>\n",
       "      <td>68.000000</td>\n",
       "      <td>-1.000000</td>\n",
       "    </tr>\n",
       "    <tr>\n",
       "      <th>75%</th>\n",
       "      <td>37.000000</td>\n",
       "      <td>71.000000</td>\n",
       "      <td>-1.000000</td>\n",
       "    </tr>\n",
       "    <tr>\n",
       "      <th>max</th>\n",
       "      <td>110.000000</td>\n",
       "      <td>95.000000</td>\n",
       "      <td>1000000.000000</td>\n",
       "    </tr>\n",
       "  </tbody>\n",
       "</table>\n",
       "</div>"
      ],
      "text/plain": [
       "                age        height          income\n",
       "count  59946.000000  59943.000000    59946.000000\n",
       "mean      32.340290     68.295281    20033.222534\n",
       "std        9.452779      3.994803    97346.192104\n",
       "min       18.000000      1.000000       -1.000000\n",
       "25%       26.000000     66.000000       -1.000000\n",
       "50%       30.000000     68.000000       -1.000000\n",
       "75%       37.000000     71.000000       -1.000000\n",
       "max      110.000000     95.000000  1000000.000000"
      ]
     },
     "execution_count": 152,
     "metadata": {},
     "output_type": "execute_result"
    }
   ],
   "source": [
    "profiles.describe()"
   ]
  },
  {
   "cell_type": "code",
   "execution_count": 153,
   "metadata": {},
   "outputs": [
    {
     "data": {
      "text/plain": [
       "['age',\n",
       " 'body_type',\n",
       " 'diet',\n",
       " 'drinks',\n",
       " 'drugs',\n",
       " 'education',\n",
       " 'essay0',\n",
       " 'essay1',\n",
       " 'essay2',\n",
       " 'essay3',\n",
       " 'essay4',\n",
       " 'essay5',\n",
       " 'essay6',\n",
       " 'essay7',\n",
       " 'essay8',\n",
       " 'essay9',\n",
       " 'ethnicity',\n",
       " 'height',\n",
       " 'income',\n",
       " 'job',\n",
       " 'last_online',\n",
       " 'location',\n",
       " 'offspring',\n",
       " 'orientation',\n",
       " 'pets',\n",
       " 'religion',\n",
       " 'sex',\n",
       " 'sign',\n",
       " 'smokes',\n",
       " 'speaks',\n",
       " 'status']"
      ]
     },
     "execution_count": 153,
     "metadata": {},
     "output_type": "execute_result"
    }
   ],
   "source": [
    "#lets get all the columns in the dataframe\n",
    "list(profiles.columns)"
   ]
  },
  {
   "cell_type": "code",
   "execution_count": 154,
   "metadata": {},
   "outputs": [
    {
     "data": {
      "text/html": [
       "<div>\n",
       "<style scoped>\n",
       "    .dataframe tbody tr th:only-of-type {\n",
       "        vertical-align: middle;\n",
       "    }\n",
       "\n",
       "    .dataframe tbody tr th {\n",
       "        vertical-align: top;\n",
       "    }\n",
       "\n",
       "    .dataframe thead th {\n",
       "        text-align: right;\n",
       "    }\n",
       "</style>\n",
       "<table border=\"1\" class=\"dataframe\">\n",
       "  <thead>\n",
       "    <tr style=\"text-align: right;\">\n",
       "      <th></th>\n",
       "      <th>age</th>\n",
       "      <th>body_type</th>\n",
       "      <th>diet</th>\n",
       "      <th>drinks</th>\n",
       "      <th>drugs</th>\n",
       "      <th>education</th>\n",
       "      <th>essay0</th>\n",
       "      <th>essay1</th>\n",
       "      <th>essay2</th>\n",
       "      <th>essay3</th>\n",
       "      <th>...</th>\n",
       "      <th>location</th>\n",
       "      <th>offspring</th>\n",
       "      <th>orientation</th>\n",
       "      <th>pets</th>\n",
       "      <th>religion</th>\n",
       "      <th>sex</th>\n",
       "      <th>sign</th>\n",
       "      <th>smokes</th>\n",
       "      <th>speaks</th>\n",
       "      <th>status</th>\n",
       "    </tr>\n",
       "  </thead>\n",
       "  <tbody>\n",
       "    <tr>\n",
       "      <th>0</th>\n",
       "      <td>22</td>\n",
       "      <td>a little extra</td>\n",
       "      <td>strictly anything</td>\n",
       "      <td>socially</td>\n",
       "      <td>never</td>\n",
       "      <td>working on college/university</td>\n",
       "      <td>about me:&lt;br /&gt;\\n&lt;br /&gt;\\ni would love to think...</td>\n",
       "      <td>currently working as an international agent fo...</td>\n",
       "      <td>making people laugh.&lt;br /&gt;\\nranting about a go...</td>\n",
       "      <td>the way i look. i am a six foot half asian, ha...</td>\n",
       "      <td>...</td>\n",
       "      <td>south san francisco, california</td>\n",
       "      <td>doesn&amp;rsquo;t have kids, but might want them</td>\n",
       "      <td>straight</td>\n",
       "      <td>likes dogs and likes cats</td>\n",
       "      <td>agnosticism and very serious about it</td>\n",
       "      <td>m</td>\n",
       "      <td>gemini</td>\n",
       "      <td>sometimes</td>\n",
       "      <td>english</td>\n",
       "      <td>single</td>\n",
       "    </tr>\n",
       "    <tr>\n",
       "      <th>1</th>\n",
       "      <td>35</td>\n",
       "      <td>average</td>\n",
       "      <td>mostly other</td>\n",
       "      <td>often</td>\n",
       "      <td>sometimes</td>\n",
       "      <td>working on space camp</td>\n",
       "      <td>i am a chef: this is what that means.&lt;br /&gt;\\n1...</td>\n",
       "      <td>dedicating everyday to being an unbelievable b...</td>\n",
       "      <td>being silly. having ridiculous amonts of fun w...</td>\n",
       "      <td>NaN</td>\n",
       "      <td>...</td>\n",
       "      <td>oakland, california</td>\n",
       "      <td>doesn&amp;rsquo;t have kids, but might want them</td>\n",
       "      <td>straight</td>\n",
       "      <td>likes dogs and likes cats</td>\n",
       "      <td>agnosticism but not too serious about it</td>\n",
       "      <td>m</td>\n",
       "      <td>cancer</td>\n",
       "      <td>no</td>\n",
       "      <td>english (fluently), spanish (poorly), french (...</td>\n",
       "      <td>single</td>\n",
       "    </tr>\n",
       "    <tr>\n",
       "      <th>2</th>\n",
       "      <td>38</td>\n",
       "      <td>thin</td>\n",
       "      <td>anything</td>\n",
       "      <td>socially</td>\n",
       "      <td>NaN</td>\n",
       "      <td>graduated from masters program</td>\n",
       "      <td>i'm not ashamed of much, but writing public te...</td>\n",
       "      <td>i make nerdy software for musicians, artists, ...</td>\n",
       "      <td>improvising in different contexts. alternating...</td>\n",
       "      <td>my large jaw and large glasses are the physica...</td>\n",
       "      <td>...</td>\n",
       "      <td>san francisco, california</td>\n",
       "      <td>NaN</td>\n",
       "      <td>straight</td>\n",
       "      <td>has cats</td>\n",
       "      <td>NaN</td>\n",
       "      <td>m</td>\n",
       "      <td>pisces but it doesn&amp;rsquo;t matter</td>\n",
       "      <td>no</td>\n",
       "      <td>english, french, c++</td>\n",
       "      <td>available</td>\n",
       "    </tr>\n",
       "  </tbody>\n",
       "</table>\n",
       "<p>3 rows × 31 columns</p>\n",
       "</div>"
      ],
      "text/plain": [
       "   age       body_type               diet    drinks      drugs  \\\n",
       "0   22  a little extra  strictly anything  socially      never   \n",
       "1   35         average       mostly other     often  sometimes   \n",
       "2   38            thin           anything  socially        NaN   \n",
       "\n",
       "                        education  \\\n",
       "0   working on college/university   \n",
       "1           working on space camp   \n",
       "2  graduated from masters program   \n",
       "\n",
       "                                              essay0  \\\n",
       "0  about me:<br />\\n<br />\\ni would love to think...   \n",
       "1  i am a chef: this is what that means.<br />\\n1...   \n",
       "2  i'm not ashamed of much, but writing public te...   \n",
       "\n",
       "                                              essay1  \\\n",
       "0  currently working as an international agent fo...   \n",
       "1  dedicating everyday to being an unbelievable b...   \n",
       "2  i make nerdy software for musicians, artists, ...   \n",
       "\n",
       "                                              essay2  \\\n",
       "0  making people laugh.<br />\\nranting about a go...   \n",
       "1  being silly. having ridiculous amonts of fun w...   \n",
       "2  improvising in different contexts. alternating...   \n",
       "\n",
       "                                              essay3  ...  \\\n",
       "0  the way i look. i am a six foot half asian, ha...  ...   \n",
       "1                                                NaN  ...   \n",
       "2  my large jaw and large glasses are the physica...  ...   \n",
       "\n",
       "                          location  \\\n",
       "0  south san francisco, california   \n",
       "1              oakland, california   \n",
       "2        san francisco, california   \n",
       "\n",
       "                                      offspring orientation  \\\n",
       "0  doesn&rsquo;t have kids, but might want them    straight   \n",
       "1  doesn&rsquo;t have kids, but might want them    straight   \n",
       "2                                           NaN    straight   \n",
       "\n",
       "                        pets                                  religion sex  \\\n",
       "0  likes dogs and likes cats     agnosticism and very serious about it   m   \n",
       "1  likes dogs and likes cats  agnosticism but not too serious about it   m   \n",
       "2                   has cats                                       NaN   m   \n",
       "\n",
       "                                 sign     smokes  \\\n",
       "0                              gemini  sometimes   \n",
       "1                              cancer         no   \n",
       "2  pisces but it doesn&rsquo;t matter         no   \n",
       "\n",
       "                                              speaks     status  \n",
       "0                                            english     single  \n",
       "1  english (fluently), spanish (poorly), french (...     single  \n",
       "2                               english, french, c++  available  \n",
       "\n",
       "[3 rows x 31 columns]"
      ]
     },
     "execution_count": 154,
     "metadata": {},
     "output_type": "execute_result"
    }
   ],
   "source": [
    "#Investigate the first 3 rows\n",
    "profiles.head(3)"
   ]
  },
  {
   "cell_type": "code",
   "execution_count": 155,
   "metadata": {},
   "outputs": [
    {
     "data": {
      "text/html": [
       "<div>\n",
       "<style scoped>\n",
       "    .dataframe tbody tr th:only-of-type {\n",
       "        vertical-align: middle;\n",
       "    }\n",
       "\n",
       "    .dataframe tbody tr th {\n",
       "        vertical-align: top;\n",
       "    }\n",
       "\n",
       "    .dataframe thead th {\n",
       "        text-align: right;\n",
       "    }\n",
       "</style>\n",
       "<table border=\"1\" class=\"dataframe\">\n",
       "  <thead>\n",
       "    <tr style=\"text-align: right;\">\n",
       "      <th></th>\n",
       "      <th>age</th>\n",
       "      <th>body_type</th>\n",
       "      <th>diet</th>\n",
       "      <th>drinks</th>\n",
       "      <th>drugs</th>\n",
       "      <th>education</th>\n",
       "      <th>essay0</th>\n",
       "      <th>essay1</th>\n",
       "      <th>essay2</th>\n",
       "      <th>essay3</th>\n",
       "      <th>...</th>\n",
       "      <th>location</th>\n",
       "      <th>offspring</th>\n",
       "      <th>orientation</th>\n",
       "      <th>pets</th>\n",
       "      <th>religion</th>\n",
       "      <th>sex</th>\n",
       "      <th>sign</th>\n",
       "      <th>smokes</th>\n",
       "      <th>speaks</th>\n",
       "      <th>status</th>\n",
       "    </tr>\n",
       "  </thead>\n",
       "  <tbody>\n",
       "    <tr>\n",
       "      <th>59943</th>\n",
       "      <td>42</td>\n",
       "      <td>average</td>\n",
       "      <td>mostly anything</td>\n",
       "      <td>not at all</td>\n",
       "      <td>never</td>\n",
       "      <td>graduated from masters program</td>\n",
       "      <td>hello! i enjoy traveling, watching movies, and...</td>\n",
       "      <td>i'm a civil engineer, who enjoys helping the c...</td>\n",
       "      <td>- looking at things objectively&lt;br /&gt;\\n- getti...</td>\n",
       "      <td>i'm quiet until i get used to the environment ...</td>\n",
       "      <td>...</td>\n",
       "      <td>south san francisco, california</td>\n",
       "      <td>doesn&amp;rsquo;t have kids</td>\n",
       "      <td>straight</td>\n",
       "      <td>NaN</td>\n",
       "      <td>christianity but not too serious about it</td>\n",
       "      <td>m</td>\n",
       "      <td>sagittarius but it doesn&amp;rsquo;t matter</td>\n",
       "      <td>no</td>\n",
       "      <td>english (fluently)</td>\n",
       "      <td>single</td>\n",
       "    </tr>\n",
       "    <tr>\n",
       "      <th>59944</th>\n",
       "      <td>27</td>\n",
       "      <td>athletic</td>\n",
       "      <td>mostly anything</td>\n",
       "      <td>socially</td>\n",
       "      <td>often</td>\n",
       "      <td>working on college/university</td>\n",
       "      <td>\"all i have in this world are my balls and my ...</td>\n",
       "      <td>following my dreams...&lt;br /&gt;\\n\"you got a dream...</td>\n",
       "      <td>listening</td>\n",
       "      <td>it used to be the hair until i mowed it off bu...</td>\n",
       "      <td>...</td>\n",
       "      <td>san francisco, california</td>\n",
       "      <td>doesn&amp;rsquo;t have kids, but wants them</td>\n",
       "      <td>straight</td>\n",
       "      <td>likes dogs and likes cats</td>\n",
       "      <td>agnosticism but not too serious about it</td>\n",
       "      <td>m</td>\n",
       "      <td>leo and it&amp;rsquo;s fun to think about</td>\n",
       "      <td>trying to quit</td>\n",
       "      <td>english (fluently), spanish (poorly), chinese ...</td>\n",
       "      <td>single</td>\n",
       "    </tr>\n",
       "    <tr>\n",
       "      <th>59945</th>\n",
       "      <td>39</td>\n",
       "      <td>average</td>\n",
       "      <td>NaN</td>\n",
       "      <td>socially</td>\n",
       "      <td>NaN</td>\n",
       "      <td>graduated from masters program</td>\n",
       "      <td>is it odd that having a little \"enemy\" status ...</td>\n",
       "      <td>i work with elderly people (psychotherapy and ...</td>\n",
       "      <td>i'm a great bullshitter. i don't know what it ...</td>\n",
       "      <td>either that i am funny/sarcastic, or that i am...</td>\n",
       "      <td>...</td>\n",
       "      <td>san francisco, california</td>\n",
       "      <td>NaN</td>\n",
       "      <td>gay</td>\n",
       "      <td>likes dogs and likes cats</td>\n",
       "      <td>catholicism and laughing about it</td>\n",
       "      <td>m</td>\n",
       "      <td>gemini and it&amp;rsquo;s fun to think about</td>\n",
       "      <td>sometimes</td>\n",
       "      <td>english</td>\n",
       "      <td>single</td>\n",
       "    </tr>\n",
       "  </tbody>\n",
       "</table>\n",
       "<p>3 rows × 31 columns</p>\n",
       "</div>"
      ],
      "text/plain": [
       "       age body_type             diet      drinks  drugs  \\\n",
       "59943   42   average  mostly anything  not at all  never   \n",
       "59944   27  athletic  mostly anything    socially  often   \n",
       "59945   39   average              NaN    socially    NaN   \n",
       "\n",
       "                            education  \\\n",
       "59943  graduated from masters program   \n",
       "59944   working on college/university   \n",
       "59945  graduated from masters program   \n",
       "\n",
       "                                                  essay0  \\\n",
       "59943  hello! i enjoy traveling, watching movies, and...   \n",
       "59944  \"all i have in this world are my balls and my ...   \n",
       "59945  is it odd that having a little \"enemy\" status ...   \n",
       "\n",
       "                                                  essay1  \\\n",
       "59943  i'm a civil engineer, who enjoys helping the c...   \n",
       "59944  following my dreams...<br />\\n\"you got a dream...   \n",
       "59945  i work with elderly people (psychotherapy and ...   \n",
       "\n",
       "                                                  essay2  \\\n",
       "59943  - looking at things objectively<br />\\n- getti...   \n",
       "59944                                          listening   \n",
       "59945  i'm a great bullshitter. i don't know what it ...   \n",
       "\n",
       "                                                  essay3  ...  \\\n",
       "59943  i'm quiet until i get used to the environment ...  ...   \n",
       "59944  it used to be the hair until i mowed it off bu...  ...   \n",
       "59945  either that i am funny/sarcastic, or that i am...  ...   \n",
       "\n",
       "                              location  \\\n",
       "59943  south san francisco, california   \n",
       "59944        san francisco, california   \n",
       "59945        san francisco, california   \n",
       "\n",
       "                                     offspring orientation  \\\n",
       "59943                  doesn&rsquo;t have kids    straight   \n",
       "59944  doesn&rsquo;t have kids, but wants them    straight   \n",
       "59945                                      NaN         gay   \n",
       "\n",
       "                            pets                                   religion  \\\n",
       "59943                        NaN  christianity but not too serious about it   \n",
       "59944  likes dogs and likes cats   agnosticism but not too serious about it   \n",
       "59945  likes dogs and likes cats          catholicism and laughing about it   \n",
       "\n",
       "      sex                                      sign          smokes  \\\n",
       "59943   m   sagittarius but it doesn&rsquo;t matter              no   \n",
       "59944   m     leo and it&rsquo;s fun to think about  trying to quit   \n",
       "59945   m  gemini and it&rsquo;s fun to think about       sometimes   \n",
       "\n",
       "                                                  speaks  status  \n",
       "59943                                 english (fluently)  single  \n",
       "59944  english (fluently), spanish (poorly), chinese ...  single  \n",
       "59945                                            english  single  \n",
       "\n",
       "[3 rows x 31 columns]"
      ]
     },
     "execution_count": 155,
     "metadata": {},
     "output_type": "execute_result"
    }
   ],
   "source": [
    "#Investigate the last 3 rows\n",
    "profiles.tail(3)"
   ]
  },
  {
   "cell_type": "markdown",
   "metadata": {},
   "source": [
    "### Age"
   ]
  },
  {
   "cell_type": "code",
   "execution_count": 156,
   "metadata": {},
   "outputs": [
    {
     "name": "stdout",
     "output_type": "stream",
     "text": [
      "The youngest:  18\n",
      "The oldest:  110\n"
     ]
    }
   ],
   "source": [
    "#Lets see the range of ages, who's the yooungest and the oldest\n",
    "print(\"The youngest: \", np.min(profiles.age))\n",
    "print(\"The oldest: \", np.max(profiles.age))"
   ]
  },
  {
   "cell_type": "markdown",
   "metadata": {},
   "source": [
    "this is definetely a mistake, there is no way someone can be 110 years old, lets investigate this row"
   ]
  },
  {
   "cell_type": "code",
   "execution_count": 157,
   "metadata": {},
   "outputs": [
    {
     "name": "stdout",
     "output_type": "stream",
     "text": [
      "      age body_type diet drinks drugs education essay0 essay1 essay2 essay3  \\\n",
      "2512  110       NaN  NaN    NaN   NaN       NaN    NaN    NaN    NaN    NaN   \n",
      "\n",
      "      ...               location offspring orientation pets religion sex sign  \\\n",
      "2512  ...  daly city, california       NaN    straight  NaN      NaN   f  NaN   \n",
      "\n",
      "      smokes   speaks  status  \n",
      "2512     NaN  english  single  \n",
      "\n",
      "[1 rows x 31 columns]\n"
     ]
    }
   ],
   "source": [
    "print(profiles[profiles.age == 110])"
   ]
  },
  {
   "cell_type": "markdown",
   "metadata": {},
   "source": [
    "Yeah, it does look like a mistake, lets looks at the distributions."
   ]
  },
  {
   "cell_type": "code",
   "execution_count": 158,
   "metadata": {},
   "outputs": [
    {
     "data": {
      "text/plain": [
       "Text(0.95, 0.8, 'Data is right skewed, users\\nare in their late 20s or early 30s,\\nwith a mean age of 32.0 ')"
      ]
     },
     "execution_count": 158,
     "metadata": {},
     "output_type": "execute_result"
    },
    {
     "data": {
      "image/png": "[encoded data removed]",
      "text/plain": [
       "<Figure size 576x576 with 1 Axes>"
      ]
     },
     "metadata": {
      "needs_background": "light"
     },
     "output_type": "display_data"
    }
   ],
   "source": [
    "#Plot histogram\n",
    "plt.figure(figsize=(8,8))\n",
    "sns.histplot(profiles.age, bins=30,  color= \"#EF476F\")\n",
    "plt.ylabel(\"Number of users\")\n",
    "plt.xlabel(\"Age\")\n",
    "plt.title( 'Distribution of Users Age', loc= \"center\",\n",
    "         fontsize=15, fontweight='bold', fontfamily='serif')\n",
    "plt.figtext(0.95, 0.9,  '''Insight''', fontsize=15, fontweight='bold', fontfamily='serif')\n",
    "plt.figtext(0.95, 0.8,  '''Data is right skewed, users\n",
    "are in their late 20s or early 30s,\n",
    "with a mean age of {} ''' .format(np.round(np.mean(profiles.age),0)),\n",
    "            fontsize=12, fontweight='light', fontfamily='serif')"
   ]
  },
  {
   "cell_type": "code",
   "execution_count": 159,
   "metadata": {},
   "outputs": [
    {
     "data": {
      "text/plain": [
       "Text(0.95, 0.75, 'Data is right skewed, users are\\nin their late 20s or early 30s\\nand their are mostly man ')"
      ]
     },
     "execution_count": 159,
     "metadata": {},
     "output_type": "execute_result"
    },
    {
     "data": {
      "image/png": "[encoded data removed]",
      "text/plain": [
       "<Figure size 405.625x360 with 1 Axes>"
      ]
     },
     "metadata": {
      "needs_background": "light"
     },
     "output_type": "display_data"
    }
   ],
   "source": [
    "sns.displot(data=profiles, x=\"age\", hue=\"sex\", kind=\"hist\",\n",
    "            binwidth=5, multiple=\"stack\", palette= palette)\n",
    "plt.title('Distribution of age broken down by gender', loc= \"center\",\n",
    "         fontsize=15, fontweight='bold', fontfamily='serif')\n",
    "plt.ylabel(\"Number of users\")\n",
    "plt.xlabel(\"Age\")\n",
    "plt.figtext(0.95, 0.9,  '''Insight''', fontsize=15, fontweight='bold', fontfamily='serif')\n",
    "plt.figtext(0.95, 0.75,  '''Data is right skewed, users are\n",
    "in their late 20s or early 30s\n",
    "and their are mostly man ''',\n",
    "            fontsize=12, fontweight='light', fontfamily='serif')"
   ]
  },
  {
   "cell_type": "code",
   "execution_count": 160,
   "metadata": {},
   "outputs": [
    {
     "name": "stdout",
     "output_type": "stream",
     "text": [
      "Number of People older than 70 :  2\n"
     ]
    }
   ],
   "source": [
    "#how many users are older than 70 yo\n",
    "over70 = profiles.apply(lambda x: True if x[\"age\"] >= 70 else False, axis=1)\n",
    "num_rows = len(over70[over70 == True].index)\n",
    "print('Number of People older than 70 : ',\n",
    "      num_rows)"
   ]
  },
  {
   "cell_type": "code",
   "execution_count": 161,
   "metadata": {},
   "outputs": [
    {
     "name": "stdout",
     "output_type": "stream",
     "text": [
      "       age body_type          diet drinks  drugs                   education  \\\n",
      "2512   110       NaN           NaN    NaN    NaN                         NaN   \n",
      "25324  109  athletic  mostly other    NaN  never  working on masters program   \n",
      "\n",
      "      essay0 essay1 essay2   essay3  ...                   location  \\\n",
      "2512     NaN    NaN    NaN      NaN  ...      daly city, california   \n",
      "25324    NaN    NaN    NaN  nothing  ...  san francisco, california   \n",
      "\n",
      "             offspring orientation pets                             religion  \\\n",
      "2512               NaN    straight  NaN                                  NaN   \n",
      "25324  might want kids    straight  NaN  other and somewhat serious about it   \n",
      "\n",
      "      sex                                  sign         smokes  \\\n",
      "2512    f                                   NaN            NaN   \n",
      "25324   m  aquarius but it doesn&rsquo;t matter  when drinking   \n",
      "\n",
      "               speaks     status  \n",
      "2512          english     single  \n",
      "25324  english (okay)  available  \n",
      "\n",
      "[2 rows x 31 columns]\n"
     ]
    }
   ],
   "source": [
    "#lets take a look at those rows where age is > 70\n",
    "print((profiles[profiles[\"age\"] >= 70]))"
   ]
  },
  {
   "cell_type": "code",
   "execution_count": 162,
   "metadata": {},
   "outputs": [
    {
     "data": {
      "text/html": [
       "<div>\n",
       "<style scoped>\n",
       "    .dataframe tbody tr th:only-of-type {\n",
       "        vertical-align: middle;\n",
       "    }\n",
       "\n",
       "    .dataframe tbody tr th {\n",
       "        vertical-align: top;\n",
       "    }\n",
       "\n",
       "    .dataframe thead th {\n",
       "        text-align: right;\n",
       "    }\n",
       "</style>\n",
       "<table border=\"1\" class=\"dataframe\">\n",
       "  <thead>\n",
       "    <tr style=\"text-align: right;\">\n",
       "      <th></th>\n",
       "      <th>age</th>\n",
       "      <th>body_type</th>\n",
       "      <th>Age_group</th>\n",
       "      <th>diet</th>\n",
       "      <th>drinks</th>\n",
       "      <th>drugs</th>\n",
       "      <th>education</th>\n",
       "      <th>essay0</th>\n",
       "      <th>essay1</th>\n",
       "      <th>essay2</th>\n",
       "      <th>...</th>\n",
       "      <th>location</th>\n",
       "      <th>offspring</th>\n",
       "      <th>orientation</th>\n",
       "      <th>pets</th>\n",
       "      <th>religion</th>\n",
       "      <th>sex</th>\n",
       "      <th>sign</th>\n",
       "      <th>smokes</th>\n",
       "      <th>speaks</th>\n",
       "      <th>status</th>\n",
       "    </tr>\n",
       "  </thead>\n",
       "  <tbody>\n",
       "    <tr>\n",
       "      <th>0</th>\n",
       "      <td>22</td>\n",
       "      <td>a little extra</td>\n",
       "      <td>20_30</td>\n",
       "      <td>strictly anything</td>\n",
       "      <td>socially</td>\n",
       "      <td>never</td>\n",
       "      <td>working on college/university</td>\n",
       "      <td>about me:&lt;br /&gt;\\n&lt;br /&gt;\\ni would love to think...</td>\n",
       "      <td>currently working as an international agent fo...</td>\n",
       "      <td>making people laugh.&lt;br /&gt;\\nranting about a go...</td>\n",
       "      <td>...</td>\n",
       "      <td>south san francisco, california</td>\n",
       "      <td>doesn&amp;rsquo;t have kids, but might want them</td>\n",
       "      <td>straight</td>\n",
       "      <td>likes dogs and likes cats</td>\n",
       "      <td>agnosticism and very serious about it</td>\n",
       "      <td>m</td>\n",
       "      <td>gemini</td>\n",
       "      <td>sometimes</td>\n",
       "      <td>english</td>\n",
       "      <td>single</td>\n",
       "    </tr>\n",
       "    <tr>\n",
       "      <th>1</th>\n",
       "      <td>35</td>\n",
       "      <td>average</td>\n",
       "      <td>30_40</td>\n",
       "      <td>mostly other</td>\n",
       "      <td>often</td>\n",
       "      <td>sometimes</td>\n",
       "      <td>working on space camp</td>\n",
       "      <td>i am a chef: this is what that means.&lt;br /&gt;\\n1...</td>\n",
       "      <td>dedicating everyday to being an unbelievable b...</td>\n",
       "      <td>being silly. having ridiculous amonts of fun w...</td>\n",
       "      <td>...</td>\n",
       "      <td>oakland, california</td>\n",
       "      <td>doesn&amp;rsquo;t have kids, but might want them</td>\n",
       "      <td>straight</td>\n",
       "      <td>likes dogs and likes cats</td>\n",
       "      <td>agnosticism but not too serious about it</td>\n",
       "      <td>m</td>\n",
       "      <td>cancer</td>\n",
       "      <td>no</td>\n",
       "      <td>english (fluently), spanish (poorly), french (...</td>\n",
       "      <td>single</td>\n",
       "    </tr>\n",
       "    <tr>\n",
       "      <th>2</th>\n",
       "      <td>38</td>\n",
       "      <td>thin</td>\n",
       "      <td>30_40</td>\n",
       "      <td>anything</td>\n",
       "      <td>socially</td>\n",
       "      <td>NaN</td>\n",
       "      <td>graduated from masters program</td>\n",
       "      <td>i'm not ashamed of much, but writing public te...</td>\n",
       "      <td>i make nerdy software for musicians, artists, ...</td>\n",
       "      <td>improvising in different contexts. alternating...</td>\n",
       "      <td>...</td>\n",
       "      <td>san francisco, california</td>\n",
       "      <td>NaN</td>\n",
       "      <td>straight</td>\n",
       "      <td>has cats</td>\n",
       "      <td>NaN</td>\n",
       "      <td>m</td>\n",
       "      <td>pisces but it doesn&amp;rsquo;t matter</td>\n",
       "      <td>no</td>\n",
       "      <td>english, french, c++</td>\n",
       "      <td>available</td>\n",
       "    </tr>\n",
       "  </tbody>\n",
       "</table>\n",
       "<p>3 rows × 32 columns</p>\n",
       "</div>"
      ],
      "text/plain": [
       "   age       body_type Age_group               diet    drinks      drugs  \\\n",
       "0   22  a little extra     20_30  strictly anything  socially      never   \n",
       "1   35         average     30_40       mostly other     often  sometimes   \n",
       "2   38            thin     30_40           anything  socially        NaN   \n",
       "\n",
       "                        education  \\\n",
       "0   working on college/university   \n",
       "1           working on space camp   \n",
       "2  graduated from masters program   \n",
       "\n",
       "                                              essay0  \\\n",
       "0  about me:<br />\\n<br />\\ni would love to think...   \n",
       "1  i am a chef: this is what that means.<br />\\n1...   \n",
       "2  i'm not ashamed of much, but writing public te...   \n",
       "\n",
       "                                              essay1  \\\n",
       "0  currently working as an international agent fo...   \n",
       "1  dedicating everyday to being an unbelievable b...   \n",
       "2  i make nerdy software for musicians, artists, ...   \n",
       "\n",
       "                                              essay2  ...  \\\n",
       "0  making people laugh.<br />\\nranting about a go...  ...   \n",
       "1  being silly. having ridiculous amonts of fun w...  ...   \n",
       "2  improvising in different contexts. alternating...  ...   \n",
       "\n",
       "                          location  \\\n",
       "0  south san francisco, california   \n",
       "1              oakland, california   \n",
       "2        san francisco, california   \n",
       "\n",
       "                                      offspring orientation  \\\n",
       "0  doesn&rsquo;t have kids, but might want them    straight   \n",
       "1  doesn&rsquo;t have kids, but might want them    straight   \n",
       "2                                           NaN    straight   \n",
       "\n",
       "                        pets                                  religion sex  \\\n",
       "0  likes dogs and likes cats     agnosticism and very serious about it   m   \n",
       "1  likes dogs and likes cats  agnosticism but not too serious about it   m   \n",
       "2                   has cats                                       NaN   m   \n",
       "\n",
       "                                 sign     smokes  \\\n",
       "0                              gemini  sometimes   \n",
       "1                              cancer         no   \n",
       "2  pisces but it doesn&rsquo;t matter         no   \n",
       "\n",
       "                                              speaks     status  \n",
       "0                                            english     single  \n",
       "1  english (fluently), spanish (poorly), french (...     single  \n",
       "2                               english, french, c++  available  \n",
       "\n",
       "[3 rows x 32 columns]"
      ]
     },
     "execution_count": 162,
     "metadata": {},
     "output_type": "execute_result"
    }
   ],
   "source": [
    "#create categories for ages\n",
    "category = pd.cut(profiles['age'], bins=[18, 20, 30, 40, 50, 60, 70],\n",
    "right=False, labels=[\"+18\", \"20_30\", \"30_40\", \"40_50\", \"50_60\", \"over70\"])\n",
    "profiles.insert(2, \"Age_group\", category)\n",
    "profiles.head(3)"
   ]
  },
  {
   "cell_type": "code",
   "execution_count": 163,
   "metadata": {},
   "outputs": [
    {
     "data": {
      "text/html": [
       "<div>\n",
       "<style scoped>\n",
       "    .dataframe tbody tr th:only-of-type {\n",
       "        vertical-align: middle;\n",
       "    }\n",
       "\n",
       "    .dataframe tbody tr th {\n",
       "        vertical-align: top;\n",
       "    }\n",
       "\n",
       "    .dataframe thead th {\n",
       "        text-align: right;\n",
       "    }\n",
       "</style>\n",
       "<table border=\"1\" class=\"dataframe\">\n",
       "  <thead>\n",
       "    <tr style=\"text-align: right;\">\n",
       "      <th></th>\n",
       "      <th>Age_group</th>\n",
       "    </tr>\n",
       "  </thead>\n",
       "  <tbody>\n",
       "    <tr>\n",
       "      <th>20_30</th>\n",
       "      <td>0.464117</td>\n",
       "    </tr>\n",
       "    <tr>\n",
       "      <th>30_40</th>\n",
       "      <td>0.331076</td>\n",
       "    </tr>\n",
       "    <tr>\n",
       "      <th>40_50</th>\n",
       "      <td>0.122414</td>\n",
       "    </tr>\n",
       "    <tr>\n",
       "      <th>50_60</th>\n",
       "      <td>0.047711</td>\n",
       "    </tr>\n",
       "    <tr>\n",
       "      <th>over70</th>\n",
       "      <td>0.019335</td>\n",
       "    </tr>\n",
       "    <tr>\n",
       "      <th>+18</th>\n",
       "      <td>0.015348</td>\n",
       "    </tr>\n",
       "  </tbody>\n",
       "</table>\n",
       "</div>"
      ],
      "text/plain": [
       "        Age_group\n",
       "20_30    0.464117\n",
       "30_40    0.331076\n",
       "40_50    0.122414\n",
       "50_60    0.047711\n",
       "over70   0.019335\n",
       "+18      0.015348"
      ]
     },
     "execution_count": 163,
     "metadata": {},
     "output_type": "execute_result"
    },
    {
     "data": {
      "image/png": "[encoded data removed]",
      "text/plain": [
       "<Figure size 576x576 with 1 Axes>"
      ]
     },
     "metadata": {
      "needs_background": "light"
     },
     "output_type": "display_data"
    }
   ],
   "source": [
    "## Plot distributions of age groups\n",
    "plt.figure(figsize=(8,8))\n",
    "sns.countplot(profiles[\"Age_group\"], hue=profiles[\"sex\"], palette = palette, order = profiles['Age_group'].value_counts().index)\n",
    "plt.title('Distribution of users according to Age groups, broken down by genders', loc= \"center\",\n",
    "         fontsize=15, fontweight='bold', fontfamily='serif')\n",
    "plt.ylabel(\"Distribution of age groups\")\n",
    "plt.xlabel(\"Age\")\n",
    "plt.figtext(0.95, 0.85, '''Insight''', fontsize=15, fontweight='bold', fontfamily='serif')\n",
    "plt.figtext(0.95, 0.82, '''Users are grouped around 20s and 30s''',\n",
    "            fontsize=12, fontweight='light', fontfamily='serif')\n",
    "\n",
    "#Dataframe Age groups\n",
    "pd.DataFrame(profiles[\"Age_group\"].value_counts(normalize=True))"
   ]
  },
  {
   "cell_type": "markdown",
   "metadata": {},
   "source": [
    "## Body Type"
   ]
  },
  {
   "cell_type": "code",
   "execution_count": 164,
   "metadata": {},
   "outputs": [
    {
     "data": {
      "text/html": [
       "<div>\n",
       "<style scoped>\n",
       "    .dataframe tbody tr th:only-of-type {\n",
       "        vertical-align: middle;\n",
       "    }\n",
       "\n",
       "    .dataframe tbody tr th {\n",
       "        vertical-align: top;\n",
       "    }\n",
       "\n",
       "    .dataframe thead th {\n",
       "        text-align: right;\n",
       "    }\n",
       "</style>\n",
       "<table border=\"1\" class=\"dataframe\">\n",
       "  <thead>\n",
       "    <tr style=\"text-align: right;\">\n",
       "      <th></th>\n",
       "      <th>body_type</th>\n",
       "    </tr>\n",
       "  </thead>\n",
       "  <tbody>\n",
       "    <tr>\n",
       "      <th>average</th>\n",
       "      <td>0.244420</td>\n",
       "    </tr>\n",
       "    <tr>\n",
       "      <th>fit</th>\n",
       "      <td>0.212041</td>\n",
       "    </tr>\n",
       "    <tr>\n",
       "      <th>athletic</th>\n",
       "      <td>0.197161</td>\n",
       "    </tr>\n",
       "    <tr>\n",
       "      <th>NaN</th>\n",
       "      <td>0.088346</td>\n",
       "    </tr>\n",
       "    <tr>\n",
       "      <th>thin</th>\n",
       "      <td>0.078587</td>\n",
       "    </tr>\n",
       "    <tr>\n",
       "      <th>curvy</th>\n",
       "      <td>0.065459</td>\n",
       "    </tr>\n",
       "    <tr>\n",
       "      <th>a little extra</th>\n",
       "      <td>0.043856</td>\n",
       "    </tr>\n",
       "    <tr>\n",
       "      <th>skinny</th>\n",
       "      <td>0.029643</td>\n",
       "    </tr>\n",
       "    <tr>\n",
       "      <th>full figured</th>\n",
       "      <td>0.016832</td>\n",
       "    </tr>\n",
       "    <tr>\n",
       "      <th>overweight</th>\n",
       "      <td>0.007407</td>\n",
       "    </tr>\n",
       "    <tr>\n",
       "      <th>jacked</th>\n",
       "      <td>0.007023</td>\n",
       "    </tr>\n",
       "    <tr>\n",
       "      <th>used up</th>\n",
       "      <td>0.005922</td>\n",
       "    </tr>\n",
       "    <tr>\n",
       "      <th>rather not say</th>\n",
       "      <td>0.003303</td>\n",
       "    </tr>\n",
       "  </tbody>\n",
       "</table>\n",
       "</div>"
      ],
      "text/plain": [
       "                body_type\n",
       "average          0.244420\n",
       "fit              0.212041\n",
       "athletic         0.197161\n",
       "NaN              0.088346\n",
       "thin             0.078587\n",
       "curvy            0.065459\n",
       "a little extra   0.043856\n",
       "skinny           0.029643\n",
       "full figured     0.016832\n",
       "overweight       0.007407\n",
       "jacked           0.007023\n",
       "used up          0.005922\n",
       "rather not say   0.003303"
      ]
     },
     "execution_count": 164,
     "metadata": {},
     "output_type": "execute_result"
    },
    {
     "data": {
      "image/png": "[encoded data removed]",
      "text/plain": [
       "<Figure size 720x720 with 1 Axes>"
      ]
     },
     "metadata": {
      "needs_background": "light"
     },
     "output_type": "display_data"
    }
   ],
   "source": [
    "## Plot distributions of age groups\n",
    "categories = profiles.body_type.nunique()\n",
    "plt.figure(figsize=(10,10))\n",
    "sns.countplot(y=profiles.body_type, hue= profiles.sex, palette=palette, order = profiles['body_type'].value_counts().index)\n",
    "plt.ylabel(\"Categories of Body type\")\n",
    "plt.text(0.5, -1.2, 'Categories of body type',\n",
    "         fontsize=15, fontweight='bold', fontfamily='serif')\n",
    "plt.text(0.5, -0.8, 'Distribution of the {} categories of body type.' .format(categories),\n",
    "fontsize=12, fontweight='light', fontfamily='serif')\n",
    "plt.figtext(1, 0.9,  '''Insight''', fontsize=15, fontweight='bold', fontfamily='serif')\n",
    "plt.figtext(1, 0.8,  '''users mostly in the average body type\n",
    "(whatever that means, body positivity),\n",
    "men tend to declare themselves as average,\n",
    "athletic or fit, whereas women\n",
    "use to tag themselves as curvy ''',\n",
    "            fontsize=12, fontweight='light', fontfamily='serif')\n",
    "\n",
    "pd.DataFrame(profiles[\"body_type\"].value_counts(normalize=True, dropna=False))\n"
   ]
  },
  {
   "cell_type": "markdown",
   "metadata": {},
   "source": [
    "### Orientation"
   ]
  },
  {
   "cell_type": "code",
   "execution_count": 165,
   "metadata": {},
   "outputs": [
    {
     "data": {
      "text/plain": [
       "Text(0.5, 1.0, 'Orientation')"
      ]
     },
     "execution_count": 165,
     "metadata": {},
     "output_type": "execute_result"
    },
    {
     "data": {
      "image/png": "[encoded data removed]",
      "text/plain": [
       "<Figure size 432x288 with 1 Axes>"
      ]
     },
     "metadata": {
      "needs_background": "light"
     },
     "output_type": "display_data"
    }
   ],
   "source": [
    "profiles[\"orientation\"].value_counts(normalize=True)\n",
    "sns.countplot(profiles[\"orientation\"], hue=profiles[\"sex\"], palette=palette, order = profiles['orientation'].value_counts().index)\n",
    "plt.title(\"Orientation\")"
   ]
  },
  {
   "cell_type": "markdown",
   "metadata": {},
   "source": [
    "### Sex"
   ]
  },
  {
   "cell_type": "code",
   "execution_count": 166,
   "metadata": {},
   "outputs": [
    {
     "data": {
      "text/plain": [
       "<AxesSubplot:xlabel='count', ylabel='sex'>"
      ]
     },
     "execution_count": 166,
     "metadata": {},
     "output_type": "execute_result"
    },
    {
     "data": {
      "image/png": "[encoded data removed]",
      "text/plain": [
       "<Figure size 432x288 with 1 Axes>"
      ]
     },
     "metadata": {
      "needs_background": "light"
     },
     "output_type": "display_data"
    }
   ],
   "source": [
    "sns.countplot(y =profiles.sex, palette=palette)"
   ]
  },
  {
   "cell_type": "markdown",
   "metadata": {},
   "source": [
    "### Height"
   ]
  },
  {
   "cell_type": "code",
   "execution_count": 167,
   "metadata": {},
   "outputs": [
    {
     "data": {
      "text/plain": [
       "<seaborn.axisgrid.FacetGrid at 0x12e3849a0>"
      ]
     },
     "execution_count": 167,
     "metadata": {},
     "output_type": "execute_result"
    },
    {
     "data": {
      "image/png": "[encoded data removed]",
      "text/plain": [
       "<Figure size 360x360 with 1 Axes>"
      ]
     },
     "metadata": {
      "needs_background": "light"
     },
     "output_type": "display_data"
    }
   ],
   "source": [
    "sns.displot(profiles.height, bins=30, kind=\"hist\")"
   ]
  },
  {
   "cell_type": "code",
   "execution_count": 168,
   "metadata": {},
   "outputs": [
    {
     "data": {
      "text/plain": [
       "<seaborn.axisgrid.FacetGrid at 0x12e3d3340>"
      ]
     },
     "execution_count": 168,
     "metadata": {},
     "output_type": "execute_result"
    },
    {
     "data": {
      "image/png": "[encoded data removed]",
      "text/plain": [
       "<Figure size 405.625x360 with 1 Axes>"
      ]
     },
     "metadata": {
      "needs_background": "light"
     },
     "output_type": "display_data"
    }
   ],
   "source": [
    "sns.displot(data= profiles, x=\"height\", hue= \"sex\", bins=30, kind=\"hist\", palette=palette)"
   ]
  },
  {
   "cell_type": "markdown",
   "metadata": {},
   "source": [
    "## Drugs"
   ]
  },
  {
   "cell_type": "code",
   "execution_count": 169,
   "metadata": {},
   "outputs": [
    {
     "data": {
      "text/html": [
       "<div>\n",
       "<style scoped>\n",
       "    .dataframe tbody tr th:only-of-type {\n",
       "        vertical-align: middle;\n",
       "    }\n",
       "\n",
       "    .dataframe tbody tr th {\n",
       "        vertical-align: top;\n",
       "    }\n",
       "\n",
       "    .dataframe thead th {\n",
       "        text-align: right;\n",
       "    }\n",
       "</style>\n",
       "<table border=\"1\" class=\"dataframe\">\n",
       "  <thead>\n",
       "    <tr style=\"text-align: right;\">\n",
       "      <th></th>\n",
       "      <th>drugs</th>\n",
       "    </tr>\n",
       "  </thead>\n",
       "  <tbody>\n",
       "    <tr>\n",
       "      <th>never</th>\n",
       "      <td>0.629300</td>\n",
       "    </tr>\n",
       "    <tr>\n",
       "      <th>NaN</th>\n",
       "      <td>0.234878</td>\n",
       "    </tr>\n",
       "    <tr>\n",
       "      <th>sometimes</th>\n",
       "      <td>0.128983</td>\n",
       "    </tr>\n",
       "    <tr>\n",
       "      <th>often</th>\n",
       "      <td>0.006839</td>\n",
       "    </tr>\n",
       "  </tbody>\n",
       "</table>\n",
       "</div>"
      ],
      "text/plain": [
       "              drugs\n",
       "never      0.629300\n",
       "NaN        0.234878\n",
       "sometimes  0.128983\n",
       "often      0.006839"
      ]
     },
     "execution_count": 169,
     "metadata": {},
     "output_type": "execute_result"
    },
    {
     "data": {
      "image/png": "[encoded data removed]",
      "text/plain": [
       "<Figure size 720x720 with 1 Axes>"
      ]
     },
     "metadata": {
      "needs_background": "light"
     },
     "output_type": "display_data"
    }
   ],
   "source": [
    "## Plot distributions of age groups\n",
    "categories = profiles.drugs.nunique()\n",
    "\n",
    "plt.figure(figsize=(10, 10))\n",
    "sns.countplot(y=profiles.drugs, hue=profiles.sex, palette=palette, order = profiles['drugs'].value_counts().index)\n",
    "plt.ylabel(\"Drug Consumption\")\n",
    "plt.text(0.5, -0.8, 'Categories of body type',\n",
    "         fontsize=15, fontweight='bold', fontfamily='serif')\n",
    "plt.text(0.5, -0.7, 'Distribution of the {} categories of body type.' .format(categories),\n",
    "         fontsize=12, fontweight='light', fontfamily='serif')\n",
    "plt.figtext(1, 0.9,  '''Insight''', fontsize=15,\n",
    "            fontweight='bold', fontfamily='serif')\n",
    "plt.figtext(1, 0.85,  '''users do not tend to consume drugs,\n",
    "or they have consumed sometimes ''',\n",
    "            fontsize=12, fontweight='light', fontfamily='serif')\n",
    "\n",
    "pd.DataFrame(profiles[\"drugs\"].value_counts(normalize=True, dropna=False))\n"
   ]
  },
  {
   "cell_type": "markdown",
   "metadata": {},
   "source": [
    "## etchnicity"
   ]
  },
  {
   "cell_type": "code",
   "execution_count": 170,
   "metadata": {},
   "outputs": [
    {
     "data": {
      "text/html": [
       "<div>\n",
       "<style scoped>\n",
       "    .dataframe tbody tr th:only-of-type {\n",
       "        vertical-align: middle;\n",
       "    }\n",
       "\n",
       "    .dataframe tbody tr th {\n",
       "        vertical-align: top;\n",
       "    }\n",
       "\n",
       "    .dataframe thead th {\n",
       "        text-align: right;\n",
       "    }\n",
       "</style>\n",
       "<table border=\"1\" class=\"dataframe\">\n",
       "  <thead>\n",
       "    <tr style=\"text-align: right;\">\n",
       "      <th></th>\n",
       "      <th>status</th>\n",
       "    </tr>\n",
       "  </thead>\n",
       "  <tbody>\n",
       "    <tr>\n",
       "      <th>single</th>\n",
       "      <td>0.929120</td>\n",
       "    </tr>\n",
       "    <tr>\n",
       "      <th>seeing someone</th>\n",
       "      <td>0.034431</td>\n",
       "    </tr>\n",
       "    <tr>\n",
       "      <th>available</th>\n",
       "      <td>0.031111</td>\n",
       "    </tr>\n",
       "    <tr>\n",
       "      <th>married</th>\n",
       "      <td>0.005171</td>\n",
       "    </tr>\n",
       "    <tr>\n",
       "      <th>unknown</th>\n",
       "      <td>0.000167</td>\n",
       "    </tr>\n",
       "  </tbody>\n",
       "</table>\n",
       "</div>"
      ],
      "text/plain": [
       "                  status\n",
       "single          0.929120\n",
       "seeing someone  0.034431\n",
       "available       0.031111\n",
       "married         0.005171\n",
       "unknown         0.000167"
      ]
     },
     "execution_count": 170,
     "metadata": {},
     "output_type": "execute_result"
    },
    {
     "data": {
      "image/png": "[encoded data removed]",
      "text/plain": [
       "<Figure size 720x720 with 1 Axes>"
      ]
     },
     "metadata": {
      "needs_background": "light"
     },
     "output_type": "display_data"
    }
   ],
   "source": [
    "## Plot distributions of age groups\n",
    "categories = profiles.status.nunique()\n",
    "\n",
    "plt.figure(figsize=(10, 10))\n",
    "sns.countplot(y=profiles.status, hue=profiles.sex, palette=palette, order = profiles['status'].value_counts().index)\n",
    "plt.ylabel(\"Drug Consumption\")\n",
    "plt.text(0.5, -0.8, 'Categories of body type',\n",
    "         fontsize=15, fontweight='bold', fontfamily='serif')\n",
    "plt.text(0.5, -0.7, 'Distribution of the {} categories of body type.' .format(categories),\n",
    "         fontsize=12, fontweight='light', fontfamily='serif')\n",
    "plt.figtext(1, 0.9,  '''Insight''', fontsize=15,\n",
    "            fontweight='bold', fontfamily='serif')\n",
    "plt.figtext(1, 0.85,  '''users do not tend to consume drugs,\n",
    "or they have consumed sometimes ''',\n",
    "            fontsize=12, fontweight='light', fontfamily='serif')\n",
    "\n",
    "pd.DataFrame(profiles[\"status\"].value_counts(normalize=True, dropna=False))\n"
   ]
  },
  {
   "cell_type": "markdown",
   "metadata": {},
   "source": [
    "## Religions"
   ]
  },
  {
   "cell_type": "code",
   "execution_count": 180,
   "metadata": {},
   "outputs": [
    {
     "data": {
      "text/html": [
       "<div>\n",
       "<style scoped>\n",
       "    .dataframe tbody tr th:only-of-type {\n",
       "        vertical-align: middle;\n",
       "    }\n",
       "\n",
       "    .dataframe tbody tr th {\n",
       "        vertical-align: top;\n",
       "    }\n",
       "\n",
       "    .dataframe thead th {\n",
       "        text-align: right;\n",
       "    }\n",
       "</style>\n",
       "<table border=\"1\" class=\"dataframe\">\n",
       "  <thead>\n",
       "    <tr style=\"text-align: right;\">\n",
       "      <th></th>\n",
       "      <th>religion</th>\n",
       "    </tr>\n",
       "  </thead>\n",
       "  <tbody>\n",
       "    <tr>\n",
       "      <th>NaN</th>\n",
       "      <td>0.337404</td>\n",
       "    </tr>\n",
       "    <tr>\n",
       "      <th>agnosticism</th>\n",
       "      <td>0.045441</td>\n",
       "    </tr>\n",
       "    <tr>\n",
       "      <th>other</th>\n",
       "      <td>0.044890</td>\n",
       "    </tr>\n",
       "    <tr>\n",
       "      <th>agnosticism but not too serious about it</th>\n",
       "      <td>0.043973</td>\n",
       "    </tr>\n",
       "    <tr>\n",
       "      <th>agnosticism and laughing about it</th>\n",
       "      <td>0.041637</td>\n",
       "    </tr>\n",
       "    <tr>\n",
       "      <th>catholicism but not too serious about it</th>\n",
       "      <td>0.038668</td>\n",
       "    </tr>\n",
       "    <tr>\n",
       "      <th>atheism</th>\n",
       "      <td>0.036283</td>\n",
       "    </tr>\n",
       "    <tr>\n",
       "      <th>other and laughing about it</th>\n",
       "      <td>0.035348</td>\n",
       "    </tr>\n",
       "    <tr>\n",
       "      <th>atheism and laughing about it</th>\n",
       "      <td>0.034598</td>\n",
       "    </tr>\n",
       "    <tr>\n",
       "      <th>christianity</th>\n",
       "      <td>0.032646</td>\n",
       "    </tr>\n",
       "    <tr>\n",
       "      <th>christianity but not too serious about it</th>\n",
       "      <td>0.032563</td>\n",
       "    </tr>\n",
       "    <tr>\n",
       "      <th>other but not too serious about it</th>\n",
       "      <td>0.025923</td>\n",
       "    </tr>\n",
       "    <tr>\n",
       "      <th>judaism but not too serious about it</th>\n",
       "      <td>0.025306</td>\n",
       "    </tr>\n",
       "    <tr>\n",
       "      <th>atheism but not too serious about it</th>\n",
       "      <td>0.021986</td>\n",
       "    </tr>\n",
       "    <tr>\n",
       "      <th>catholicism</th>\n",
       "      <td>0.017749</td>\n",
       "    </tr>\n",
       "    <tr>\n",
       "      <th>christianity and somewhat serious about it</th>\n",
       "      <td>0.015464</td>\n",
       "    </tr>\n",
       "    <tr>\n",
       "      <th>atheism and somewhat serious about it</th>\n",
       "      <td>0.014146</td>\n",
       "    </tr>\n",
       "    <tr>\n",
       "      <th>other and somewhat serious about it</th>\n",
       "      <td>0.014113</td>\n",
       "    </tr>\n",
       "    <tr>\n",
       "      <th>catholicism and laughing about it</th>\n",
       "      <td>0.012111</td>\n",
       "    </tr>\n",
       "    <tr>\n",
       "      <th>judaism and laughing about it</th>\n",
       "      <td>0.011360</td>\n",
       "    </tr>\n",
       "    <tr>\n",
       "      <th>buddhism but not too serious about it</th>\n",
       "      <td>0.010843</td>\n",
       "    </tr>\n",
       "    <tr>\n",
       "      <th>agnosticism and somewhat serious about it</th>\n",
       "      <td>0.010710</td>\n",
       "    </tr>\n",
       "    <tr>\n",
       "      <th>judaism</th>\n",
       "      <td>0.010209</td>\n",
       "    </tr>\n",
       "    <tr>\n",
       "      <th>christianity and very serious about it</th>\n",
       "      <td>0.009642</td>\n",
       "    </tr>\n",
       "    <tr>\n",
       "      <th>atheism and very serious about it</th>\n",
       "      <td>0.009509</td>\n",
       "    </tr>\n",
       "    <tr>\n",
       "      <th>catholicism and somewhat serious about it</th>\n",
       "      <td>0.009142</td>\n",
       "    </tr>\n",
       "    <tr>\n",
       "      <th>other and very serious about it</th>\n",
       "      <td>0.008891</td>\n",
       "    </tr>\n",
       "    <tr>\n",
       "      <th>buddhism and laughing about it</th>\n",
       "      <td>0.007774</td>\n",
       "    </tr>\n",
       "    <tr>\n",
       "      <th>buddhism</th>\n",
       "      <td>0.006723</td>\n",
       "    </tr>\n",
       "    <tr>\n",
       "      <th>christianity and laughing about it</th>\n",
       "      <td>0.006222</td>\n",
       "    </tr>\n",
       "    <tr>\n",
       "      <th>buddhism and somewhat serious about it</th>\n",
       "      <td>0.005989</td>\n",
       "    </tr>\n",
       "    <tr>\n",
       "      <th>agnosticism and very serious about it</th>\n",
       "      <td>0.005238</td>\n",
       "    </tr>\n",
       "    <tr>\n",
       "      <th>judaism and somewhat serious about it</th>\n",
       "      <td>0.004437</td>\n",
       "    </tr>\n",
       "    <tr>\n",
       "      <th>hinduism but not too serious about it</th>\n",
       "      <td>0.003787</td>\n",
       "    </tr>\n",
       "    <tr>\n",
       "      <th>hinduism</th>\n",
       "      <td>0.001785</td>\n",
       "    </tr>\n",
       "    <tr>\n",
       "      <th>catholicism and very serious about it</th>\n",
       "      <td>0.001702</td>\n",
       "    </tr>\n",
       "    <tr>\n",
       "      <th>buddhism and very serious about it</th>\n",
       "      <td>0.001168</td>\n",
       "    </tr>\n",
       "    <tr>\n",
       "      <th>hinduism and somewhat serious about it</th>\n",
       "      <td>0.000968</td>\n",
       "    </tr>\n",
       "    <tr>\n",
       "      <th>islam</th>\n",
       "      <td>0.000801</td>\n",
       "    </tr>\n",
       "    <tr>\n",
       "      <th>hinduism and laughing about it</th>\n",
       "      <td>0.000734</td>\n",
       "    </tr>\n",
       "    <tr>\n",
       "      <th>islam but not too serious about it</th>\n",
       "      <td>0.000667</td>\n",
       "    </tr>\n",
       "    <tr>\n",
       "      <th>judaism and very serious about it</th>\n",
       "      <td>0.000367</td>\n",
       "    </tr>\n",
       "    <tr>\n",
       "      <th>islam and somewhat serious about it</th>\n",
       "      <td>0.000367</td>\n",
       "    </tr>\n",
       "    <tr>\n",
       "      <th>islam and laughing about it</th>\n",
       "      <td>0.000267</td>\n",
       "    </tr>\n",
       "    <tr>\n",
       "      <th>hinduism and very serious about it</th>\n",
       "      <td>0.000234</td>\n",
       "    </tr>\n",
       "    <tr>\n",
       "      <th>islam and very serious about it</th>\n",
       "      <td>0.000217</td>\n",
       "    </tr>\n",
       "  </tbody>\n",
       "</table>\n",
       "</div>"
      ],
      "text/plain": [
       "                                            religion\n",
       "NaN                                         0.337404\n",
       "agnosticism                                 0.045441\n",
       "other                                       0.044890\n",
       "agnosticism but not too serious about it    0.043973\n",
       "agnosticism and laughing about it           0.041637\n",
       "catholicism but not too serious about it    0.038668\n",
       "atheism                                     0.036283\n",
       "other and laughing about it                 0.035348\n",
       "atheism and laughing about it               0.034598\n",
       "christianity                                0.032646\n",
       "christianity but not too serious about it   0.032563\n",
       "other but not too serious about it          0.025923\n",
       "judaism but not too serious about it        0.025306\n",
       "atheism but not too serious about it        0.021986\n",
       "catholicism                                 0.017749\n",
       "christianity and somewhat serious about it  0.015464\n",
       "atheism and somewhat serious about it       0.014146\n",
       "other and somewhat serious about it         0.014113\n",
       "catholicism and laughing about it           0.012111\n",
       "judaism and laughing about it               0.011360\n",
       "buddhism but not too serious about it       0.010843\n",
       "agnosticism and somewhat serious about it   0.010710\n",
       "judaism                                     0.010209\n",
       "christianity and very serious about it      0.009642\n",
       "atheism and very serious about it           0.009509\n",
       "catholicism and somewhat serious about it   0.009142\n",
       "other and very serious about it             0.008891\n",
       "buddhism and laughing about it              0.007774\n",
       "buddhism                                    0.006723\n",
       "christianity and laughing about it          0.006222\n",
       "buddhism and somewhat serious about it      0.005989\n",
       "agnosticism and very serious about it       0.005238\n",
       "judaism and somewhat serious about it       0.004437\n",
       "hinduism but not too serious about it       0.003787\n",
       "hinduism                                    0.001785\n",
       "catholicism and very serious about it       0.001702\n",
       "buddhism and very serious about it          0.001168\n",
       "hinduism and somewhat serious about it      0.000968\n",
       "islam                                       0.000801\n",
       "hinduism and laughing about it              0.000734\n",
       "islam but not too serious about it          0.000667\n",
       "judaism and very serious about it           0.000367\n",
       "islam and somewhat serious about it         0.000367\n",
       "islam and laughing about it                 0.000267\n",
       "hinduism and very serious about it          0.000234\n",
       "islam and very serious about it             0.000217"
      ]
     },
     "execution_count": 180,
     "metadata": {},
     "output_type": "execute_result"
    }
   ],
   "source": [
    "## Investigate religions\n",
    "pd.DataFrame(profiles[\"religion\"].value_counts(normalize=True, dropna=False))\n"
   ]
  },
  {
   "cell_type": "code",
   "execution_count": 172,
   "metadata": {},
   "outputs": [
    {
     "name": "stdout",
     "output_type": "stream",
     "text": [
      "Number of categories in Signs: 9\n",
      "categories: ['agnosticism' nan 'atheism' 'christianity' 'other' 'catholicism'\n",
      " 'buddhism' 'judaism' 'hinduism' 'islam']\n"
     ]
    },
    {
     "data": {
      "text/plain": [
       "agnosticism     8812\n",
       "other           7743\n",
       "atheism         6985\n",
       "christianity    5787\n",
       "catholicism     4758\n",
       "judaism         3098\n",
       "buddhism        1948\n",
       "hinduism         450\n",
       "islam            139\n",
       "Name: religion_clean, dtype: int64"
      ]
     },
     "execution_count": 172,
     "metadata": {},
     "output_type": "execute_result"
    }
   ],
   "source": [
    "#Clean religion column\n",
    "\n",
    "profiles['religion_clean'] = profiles.religion.str.split().str.get(0)\n",
    "print(\"Number of categories in Signs:\",profiles.religion_clean.nunique())\n",
    "print(\"categories:\", profiles.religion_clean.unique())\n",
    "\n",
    "profiles.religion_clean.value_counts()"
   ]
  },
  {
   "cell_type": "code",
   "execution_count": 173,
   "metadata": {},
   "outputs": [
    {
     "data": {
      "text/html": [
       "<div>\n",
       "<style scoped>\n",
       "    .dataframe tbody tr th:only-of-type {\n",
       "        vertical-align: middle;\n",
       "    }\n",
       "\n",
       "    .dataframe tbody tr th {\n",
       "        vertical-align: top;\n",
       "    }\n",
       "\n",
       "    .dataframe thead th {\n",
       "        text-align: right;\n",
       "    }\n",
       "</style>\n",
       "<table border=\"1\" class=\"dataframe\">\n",
       "  <thead>\n",
       "    <tr style=\"text-align: right;\">\n",
       "      <th></th>\n",
       "      <th>religion_clean</th>\n",
       "    </tr>\n",
       "  </thead>\n",
       "  <tbody>\n",
       "    <tr>\n",
       "      <th>NaN</th>\n",
       "      <td>0.337404</td>\n",
       "    </tr>\n",
       "    <tr>\n",
       "      <th>agnosticism</th>\n",
       "      <td>0.146999</td>\n",
       "    </tr>\n",
       "    <tr>\n",
       "      <th>other</th>\n",
       "      <td>0.129166</td>\n",
       "    </tr>\n",
       "    <tr>\n",
       "      <th>atheism</th>\n",
       "      <td>0.116522</td>\n",
       "    </tr>\n",
       "    <tr>\n",
       "      <th>christianity</th>\n",
       "      <td>0.096537</td>\n",
       "    </tr>\n",
       "    <tr>\n",
       "      <th>catholicism</th>\n",
       "      <td>0.079371</td>\n",
       "    </tr>\n",
       "    <tr>\n",
       "      <th>judaism</th>\n",
       "      <td>0.051680</td>\n",
       "    </tr>\n",
       "    <tr>\n",
       "      <th>buddhism</th>\n",
       "      <td>0.032496</td>\n",
       "    </tr>\n",
       "    <tr>\n",
       "      <th>hinduism</th>\n",
       "      <td>0.007507</td>\n",
       "    </tr>\n",
       "    <tr>\n",
       "      <th>islam</th>\n",
       "      <td>0.002319</td>\n",
       "    </tr>\n",
       "  </tbody>\n",
       "</table>\n",
       "</div>"
      ],
      "text/plain": [
       "              religion_clean\n",
       "NaN                 0.337404\n",
       "agnosticism         0.146999\n",
       "other               0.129166\n",
       "atheism             0.116522\n",
       "christianity        0.096537\n",
       "catholicism         0.079371\n",
       "judaism             0.051680\n",
       "buddhism            0.032496\n",
       "hinduism            0.007507\n",
       "islam               0.002319"
      ]
     },
     "execution_count": 173,
     "metadata": {},
     "output_type": "execute_result"
    },
    {
     "data": {
      "image/png": "[encoded data removed]",
      "text/plain": [
       "<Figure size 720x720 with 1 Axes>"
      ]
     },
     "metadata": {
      "needs_background": "light"
     },
     "output_type": "display_data"
    }
   ],
   "source": [
    "## Plot distributions of age groups\n",
    "categories = profiles.religion_clean.nunique()\n",
    "\n",
    "plt.figure(figsize=(10, 10))\n",
    "sns.countplot(y=profiles.religion_clean, hue=profiles.sex, palette=palette, order = profiles['religion_clean'].value_counts().index)\n",
    "plt.ylabel(\"Drug Consumption\")\n",
    "plt.text(0.5, -0.8, 'Categories of body type',\n",
    "         fontsize=15, fontweight='bold', fontfamily='serif')\n",
    "plt.text(0.5, -0.7, 'Distribution of the {} religions' .format(categories),\n",
    "         fontsize=12, fontweight='light', fontfamily='serif')\n",
    "plt.figtext(1, 0.9,  '''Insight''', fontsize=15,\n",
    "            fontweight='bold', fontfamily='serif')\n",
    "plt.figtext(1, 0.85,  '''users do not tend to consume drugs,\n",
    "or they have consumed sometimes ''',\n",
    "            fontsize=12, fontweight='light', fontfamily='serif')\n",
    "\n",
    "pd.DataFrame(profiles[\"religion_clean\"].value_counts(normalize=True, dropna=False))\n"
   ]
  },
  {
   "cell_type": "markdown",
   "metadata": {},
   "source": [
    "## Sign"
   ]
  },
  {
   "cell_type": "code",
   "execution_count": 181,
   "metadata": {},
   "outputs": [
    {
     "data": {
      "text/html": [
       "<div>\n",
       "<style scoped>\n",
       "    .dataframe tbody tr th:only-of-type {\n",
       "        vertical-align: middle;\n",
       "    }\n",
       "\n",
       "    .dataframe tbody tr th {\n",
       "        vertical-align: top;\n",
       "    }\n",
       "\n",
       "    .dataframe thead th {\n",
       "        text-align: right;\n",
       "    }\n",
       "</style>\n",
       "<table border=\"1\" class=\"dataframe\">\n",
       "  <thead>\n",
       "    <tr style=\"text-align: right;\">\n",
       "      <th></th>\n",
       "      <th>sign</th>\n",
       "    </tr>\n",
       "  </thead>\n",
       "  <tbody>\n",
       "    <tr>\n",
       "      <th>NaN</th>\n",
       "      <td>0.184433</td>\n",
       "    </tr>\n",
       "    <tr>\n",
       "      <th>gemini and it&amp;rsquo;s fun to think about</th>\n",
       "      <td>0.029727</td>\n",
       "    </tr>\n",
       "    <tr>\n",
       "      <th>scorpio and it&amp;rsquo;s fun to think about</th>\n",
       "      <td>0.029560</td>\n",
       "    </tr>\n",
       "    <tr>\n",
       "      <th>leo and it&amp;rsquo;s fun to think about</th>\n",
       "      <td>0.028225</td>\n",
       "    </tr>\n",
       "    <tr>\n",
       "      <th>libra and it&amp;rsquo;s fun to think about</th>\n",
       "      <td>0.027508</td>\n",
       "    </tr>\n",
       "    <tr>\n",
       "      <th>taurus and it&amp;rsquo;s fun to think about</th>\n",
       "      <td>0.027358</td>\n",
       "    </tr>\n",
       "    <tr>\n",
       "      <th>cancer and it&amp;rsquo;s fun to think about</th>\n",
       "      <td>0.026641</td>\n",
       "    </tr>\n",
       "    <tr>\n",
       "      <th>pisces and it&amp;rsquo;s fun to think about</th>\n",
       "      <td>0.026557</td>\n",
       "    </tr>\n",
       "    <tr>\n",
       "      <th>sagittarius and it&amp;rsquo;s fun to think about</th>\n",
       "      <td>0.026407</td>\n",
       "    </tr>\n",
       "    <tr>\n",
       "      <th>virgo and it&amp;rsquo;s fun to think about</th>\n",
       "      <td>0.026257</td>\n",
       "    </tr>\n",
       "    <tr>\n",
       "      <th>aries and it&amp;rsquo;s fun to think about</th>\n",
       "      <td>0.026240</td>\n",
       "    </tr>\n",
       "    <tr>\n",
       "      <th>aquarius and it&amp;rsquo;s fun to think about</th>\n",
       "      <td>0.025073</td>\n",
       "    </tr>\n",
       "    <tr>\n",
       "      <th>virgo but it doesn&amp;rsquo;t matter</th>\n",
       "      <td>0.024972</td>\n",
       "    </tr>\n",
       "    <tr>\n",
       "      <th>leo but it doesn&amp;rsquo;t matter</th>\n",
       "      <td>0.024305</td>\n",
       "    </tr>\n",
       "    <tr>\n",
       "      <th>cancer but it doesn&amp;rsquo;t matter</th>\n",
       "      <td>0.024255</td>\n",
       "    </tr>\n",
       "    <tr>\n",
       "      <th>gemini but it doesn&amp;rsquo;t matter</th>\n",
       "      <td>0.024238</td>\n",
       "    </tr>\n",
       "    <tr>\n",
       "      <th>taurus but it doesn&amp;rsquo;t matter</th>\n",
       "      <td>0.024188</td>\n",
       "    </tr>\n",
       "    <tr>\n",
       "      <th>aquarius but it doesn&amp;rsquo;t matter</th>\n",
       "      <td>0.023488</td>\n",
       "    </tr>\n",
       "    <tr>\n",
       "      <th>libra but it doesn&amp;rsquo;t matter</th>\n",
       "      <td>0.023488</td>\n",
       "    </tr>\n",
       "    <tr>\n",
       "      <th>capricorn and it&amp;rsquo;s fun to think about</th>\n",
       "      <td>0.022954</td>\n",
       "    </tr>\n",
       "    <tr>\n",
       "      <th>sagittarius but it doesn&amp;rsquo;t matter</th>\n",
       "      <td>0.022937</td>\n",
       "    </tr>\n",
       "    <tr>\n",
       "      <th>aries but it doesn&amp;rsquo;t matter</th>\n",
       "      <td>0.022904</td>\n",
       "    </tr>\n",
       "    <tr>\n",
       "      <th>capricorn but it doesn&amp;rsquo;t matter</th>\n",
       "      <td>0.022003</td>\n",
       "    </tr>\n",
       "    <tr>\n",
       "      <th>pisces but it doesn&amp;rsquo;t matter</th>\n",
       "      <td>0.021686</td>\n",
       "    </tr>\n",
       "    <tr>\n",
       "      <th>scorpio but it doesn&amp;rsquo;t matter</th>\n",
       "      <td>0.021086</td>\n",
       "    </tr>\n",
       "    <tr>\n",
       "      <th>leo</th>\n",
       "      <td>0.019334</td>\n",
       "    </tr>\n",
       "    <tr>\n",
       "      <th>libra</th>\n",
       "      <td>0.018316</td>\n",
       "    </tr>\n",
       "    <tr>\n",
       "      <th>cancer</th>\n",
       "      <td>0.018216</td>\n",
       "    </tr>\n",
       "    <tr>\n",
       "      <th>virgo</th>\n",
       "      <td>0.017165</td>\n",
       "    </tr>\n",
       "    <tr>\n",
       "      <th>scorpio</th>\n",
       "      <td>0.017015</td>\n",
       "    </tr>\n",
       "    <tr>\n",
       "      <th>gemini</th>\n",
       "      <td>0.016899</td>\n",
       "    </tr>\n",
       "    <tr>\n",
       "      <th>taurus</th>\n",
       "      <td>0.016698</td>\n",
       "    </tr>\n",
       "    <tr>\n",
       "      <th>aries</th>\n",
       "      <td>0.016615</td>\n",
       "    </tr>\n",
       "    <tr>\n",
       "      <th>pisces</th>\n",
       "      <td>0.016548</td>\n",
       "    </tr>\n",
       "    <tr>\n",
       "      <th>aquarius</th>\n",
       "      <td>0.015914</td>\n",
       "    </tr>\n",
       "    <tr>\n",
       "      <th>sagittarius</th>\n",
       "      <td>0.015631</td>\n",
       "    </tr>\n",
       "    <tr>\n",
       "      <th>capricorn</th>\n",
       "      <td>0.013896</td>\n",
       "    </tr>\n",
       "    <tr>\n",
       "      <th>scorpio and it matters a lot</th>\n",
       "      <td>0.001301</td>\n",
       "    </tr>\n",
       "    <tr>\n",
       "      <th>leo and it matters a lot</th>\n",
       "      <td>0.001101</td>\n",
       "    </tr>\n",
       "    <tr>\n",
       "      <th>cancer and it matters a lot</th>\n",
       "      <td>0.001051</td>\n",
       "    </tr>\n",
       "    <tr>\n",
       "      <th>aquarius and it matters a lot</th>\n",
       "      <td>0.001051</td>\n",
       "    </tr>\n",
       "    <tr>\n",
       "      <th>pisces and it matters a lot</th>\n",
       "      <td>0.001034</td>\n",
       "    </tr>\n",
       "    <tr>\n",
       "      <th>gemini and it matters a lot</th>\n",
       "      <td>0.001034</td>\n",
       "    </tr>\n",
       "    <tr>\n",
       "      <th>libra and it matters a lot</th>\n",
       "      <td>0.000867</td>\n",
       "    </tr>\n",
       "    <tr>\n",
       "      <th>taurus and it matters a lot</th>\n",
       "      <td>0.000817</td>\n",
       "    </tr>\n",
       "    <tr>\n",
       "      <th>aries and it matters a lot</th>\n",
       "      <td>0.000784</td>\n",
       "    </tr>\n",
       "    <tr>\n",
       "      <th>sagittarius and it matters a lot</th>\n",
       "      <td>0.000784</td>\n",
       "    </tr>\n",
       "    <tr>\n",
       "      <th>capricorn and it matters a lot</th>\n",
       "      <td>0.000751</td>\n",
       "    </tr>\n",
       "    <tr>\n",
       "      <th>virgo and it matters a lot</th>\n",
       "      <td>0.000684</td>\n",
       "    </tr>\n",
       "  </tbody>\n",
       "</table>\n",
       "</div>"
      ],
      "text/plain": [
       "                                                   sign\n",
       "NaN                                            0.184433\n",
       "gemini and it&rsquo;s fun to think about       0.029727\n",
       "scorpio and it&rsquo;s fun to think about      0.029560\n",
       "leo and it&rsquo;s fun to think about          0.028225\n",
       "libra and it&rsquo;s fun to think about        0.027508\n",
       "taurus and it&rsquo;s fun to think about       0.027358\n",
       "cancer and it&rsquo;s fun to think about       0.026641\n",
       "pisces and it&rsquo;s fun to think about       0.026557\n",
       "sagittarius and it&rsquo;s fun to think about  0.026407\n",
       "virgo and it&rsquo;s fun to think about        0.026257\n",
       "aries and it&rsquo;s fun to think about        0.026240\n",
       "aquarius and it&rsquo;s fun to think about     0.025073\n",
       "virgo but it doesn&rsquo;t matter              0.024972\n",
       "leo but it doesn&rsquo;t matter                0.024305\n",
       "cancer but it doesn&rsquo;t matter             0.024255\n",
       "gemini but it doesn&rsquo;t matter             0.024238\n",
       "taurus but it doesn&rsquo;t matter             0.024188\n",
       "aquarius but it doesn&rsquo;t matter           0.023488\n",
       "libra but it doesn&rsquo;t matter              0.023488\n",
       "capricorn and it&rsquo;s fun to think about    0.022954\n",
       "sagittarius but it doesn&rsquo;t matter        0.022937\n",
       "aries but it doesn&rsquo;t matter              0.022904\n",
       "capricorn but it doesn&rsquo;t matter          0.022003\n",
       "pisces but it doesn&rsquo;t matter             0.021686\n",
       "scorpio but it doesn&rsquo;t matter            0.021086\n",
       "leo                                            0.019334\n",
       "libra                                          0.018316\n",
       "cancer                                         0.018216\n",
       "virgo                                          0.017165\n",
       "scorpio                                        0.017015\n",
       "gemini                                         0.016899\n",
       "taurus                                         0.016698\n",
       "aries                                          0.016615\n",
       "pisces                                         0.016548\n",
       "aquarius                                       0.015914\n",
       "sagittarius                                    0.015631\n",
       "capricorn                                      0.013896\n",
       "scorpio and it matters a lot                   0.001301\n",
       "leo and it matters a lot                       0.001101\n",
       "cancer and it matters a lot                    0.001051\n",
       "aquarius and it matters a lot                  0.001051\n",
       "pisces and it matters a lot                    0.001034\n",
       "gemini and it matters a lot                    0.001034\n",
       "libra and it matters a lot                     0.000867\n",
       "taurus and it matters a lot                    0.000817\n",
       "aries and it matters a lot                     0.000784\n",
       "sagittarius and it matters a lot               0.000784\n",
       "capricorn and it matters a lot                 0.000751\n",
       "virgo and it matters a lot                     0.000684"
      ]
     },
     "execution_count": 181,
     "metadata": {},
     "output_type": "execute_result"
    }
   ],
   "source": [
    "## Investigate religions\n",
    "pd.DataFrame(profiles[\"sign\"].value_counts(normalize=True, dropna=False))"
   ]
  },
  {
   "cell_type": "code",
   "execution_count": 174,
   "metadata": {},
   "outputs": [
    {
     "name": "stdout",
     "output_type": "stream",
     "text": [
      "Number of categories in Signs: 12\n",
      "categories: ['gemini' 'cancer' 'pisces' 'aquarius' 'taurus' 'virgo' 'sagittarius'\n",
      " 'leo' nan 'aries' 'libra' 'scorpio' 'capricorn']\n"
     ]
    },
    {
     "data": {
      "text/plain": [
       "leo            4374\n",
       "gemini         4310\n",
       "libra          4207\n",
       "cancer         4206\n",
       "virgo          4141\n",
       "taurus         4140\n",
       "scorpio        4134\n",
       "aries          3989\n",
       "pisces         3946\n",
       "sagittarius    3942\n",
       "aquarius       3928\n",
       "capricorn      3573\n",
       "Name: sign_clean, dtype: int64"
      ]
     },
     "execution_count": 174,
     "metadata": {},
     "output_type": "execute_result"
    }
   ],
   "source": [
    "#Clean sign column\n",
    "profiles['sign_clean'] = profiles.sign.str.split().str.get(0)\n",
    "print(\"Number of categories in Signs:\",profiles.sign_clean.nunique())\n",
    "print(\"categories:\", profiles.sign_clean.unique())\n",
    "\n",
    "profiles.sign_clean.value_counts()"
   ]
  },
  {
   "cell_type": "code",
   "execution_count": 176,
   "metadata": {},
   "outputs": [
    {
     "data": {
      "text/html": [
       "<div>\n",
       "<style scoped>\n",
       "    .dataframe tbody tr th:only-of-type {\n",
       "        vertical-align: middle;\n",
       "    }\n",
       "\n",
       "    .dataframe tbody tr th {\n",
       "        vertical-align: top;\n",
       "    }\n",
       "\n",
       "    .dataframe thead th {\n",
       "        text-align: right;\n",
       "    }\n",
       "</style>\n",
       "<table border=\"1\" class=\"dataframe\">\n",
       "  <thead>\n",
       "    <tr style=\"text-align: right;\">\n",
       "      <th></th>\n",
       "      <th>sign_clean</th>\n",
       "    </tr>\n",
       "  </thead>\n",
       "  <tbody>\n",
       "    <tr>\n",
       "      <th>NaN</th>\n",
       "      <td>0.184433</td>\n",
       "    </tr>\n",
       "    <tr>\n",
       "      <th>leo</th>\n",
       "      <td>0.072966</td>\n",
       "    </tr>\n",
       "    <tr>\n",
       "      <th>gemini</th>\n",
       "      <td>0.071898</td>\n",
       "    </tr>\n",
       "    <tr>\n",
       "      <th>libra</th>\n",
       "      <td>0.070180</td>\n",
       "    </tr>\n",
       "    <tr>\n",
       "      <th>cancer</th>\n",
       "      <td>0.070163</td>\n",
       "    </tr>\n",
       "    <tr>\n",
       "      <th>virgo</th>\n",
       "      <td>0.069079</td>\n",
       "    </tr>\n",
       "    <tr>\n",
       "      <th>taurus</th>\n",
       "      <td>0.069062</td>\n",
       "    </tr>\n",
       "    <tr>\n",
       "      <th>scorpio</th>\n",
       "      <td>0.068962</td>\n",
       "    </tr>\n",
       "    <tr>\n",
       "      <th>aries</th>\n",
       "      <td>0.066543</td>\n",
       "    </tr>\n",
       "    <tr>\n",
       "      <th>pisces</th>\n",
       "      <td>0.065826</td>\n",
       "    </tr>\n",
       "    <tr>\n",
       "      <th>sagittarius</th>\n",
       "      <td>0.065759</td>\n",
       "    </tr>\n",
       "    <tr>\n",
       "      <th>aquarius</th>\n",
       "      <td>0.065526</td>\n",
       "    </tr>\n",
       "    <tr>\n",
       "      <th>capricorn</th>\n",
       "      <td>0.059604</td>\n",
       "    </tr>\n",
       "  </tbody>\n",
       "</table>\n",
       "</div>"
      ],
      "text/plain": [
       "             sign_clean\n",
       "NaN            0.184433\n",
       "leo            0.072966\n",
       "gemini         0.071898\n",
       "libra          0.070180\n",
       "cancer         0.070163\n",
       "virgo          0.069079\n",
       "taurus         0.069062\n",
       "scorpio        0.068962\n",
       "aries          0.066543\n",
       "pisces         0.065826\n",
       "sagittarius    0.065759\n",
       "aquarius       0.065526\n",
       "capricorn      0.059604"
      ]
     },
     "execution_count": 176,
     "metadata": {},
     "output_type": "execute_result"
    },
    {
     "data": {
      "image/png": "[encoded data removed]",
      "text/plain": [
       "<Figure size 720x720 with 1 Axes>"
      ]
     },
     "metadata": {
      "needs_background": "light"
     },
     "output_type": "display_data"
    }
   ],
   "source": [
    "## Plot distributions of age groups\n",
    "plt.figure(figsize=(10, 10))\n",
    "sns.countplot(y=profiles.sign_clean, palette=palette, order = profiles['sign_clean'].value_counts().index)\n",
    "plt.ylabel(\"Drug Consumption\")\n",
    "plt.text(0.5, -0.8, 'Categories of body type',\n",
    "         fontsize=15, fontweight='bold', fontfamily='serif')\n",
    "plt.text(0.5, -0.7, \"Distribution of the signs\",\n",
    "         fontsize=12, fontweight='light', fontfamily='serif')\n",
    "plt.figtext(1, 0.9,  '''Insight''', fontsize=15,\n",
    "            fontweight='bold', fontfamily='serif')\n",
    "plt.figtext(1, 0.85,  '''users do not tend to consume drugs,\n",
    "or they have consumed sometimes ''',\n",
    "            fontsize=12, fontweight='light', fontfamily='serif')\n",
    "\n",
    "pd.DataFrame(profiles[\"sign_clean\"].value_counts(normalize=True, dropna=False))"
   ]
  },
  {
   "cell_type": "markdown",
   "metadata": {},
   "source": [
    "### Income"
   ]
  },
  {
   "cell_type": "code",
   "execution_count": 187,
   "metadata": {},
   "outputs": [
    {
     "data": {
      "text/plain": [
       "<AxesSubplot:xlabel='income', ylabel='Count'>"
      ]
     },
     "execution_count": 187,
     "metadata": {},
     "output_type": "execute_result"
    },
    {
     "data": {
      "image/png": "[encoded data removed]",
      "text/plain": [
       "<Figure size 432x288 with 1 Axes>"
      ]
     },
     "metadata": {
      "needs_background": "light"
     },
     "output_type": "display_data"
    }
   ],
   "source": [
    "sns.histplot(profiles.income)"
   ]
  },
  {
   "cell_type": "code",
   "execution_count": 193,
   "metadata": {},
   "outputs": [
    {
     "data": {
      "text/plain": [
       "count      59946.000000\n",
       "mean       20033.222534\n",
       "std        97346.192104\n",
       "min           -1.000000\n",
       "25%           -1.000000\n",
       "50%           -1.000000\n",
       "75%           -1.000000\n",
       "max      1000000.000000\n",
       "Name: income, dtype: float64"
      ]
     },
     "execution_count": 193,
     "metadata": {},
     "output_type": "execute_result"
    }
   ],
   "source": [
    "profiles.income.describe()"
   ]
  }
 ],
 "metadata": {
  "kernelspec": {
   "display_name": "Python 3",
   "language": "python",
   "name": "python3"
  },
  "language_info": {
   "codemirror_mode": {
    "name": "ipython",
    "version": 3
   },
   "file_extension": ".py",
   "mimetype": "text/x-python",
   "name": "python",
   "nbconvert_exporter": "python",
   "pygments_lexer": "ipython3",
   "version": "3.10.0"
  }
 },
 "nbformat": 4,
 "nbformat_minor": 4
}
